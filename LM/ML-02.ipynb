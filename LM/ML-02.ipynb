{
  "nbformat": 4,
  "nbformat_minor": 0,
  "metadata": {
    "colab": {
      "provenance": []
    },
    "kernelspec": {
      "name": "python3",
      "display_name": "Python 3"
    },
    "language_info": {
      "name": "python"
    }
  },
  "cells": [
    {
      "cell_type": "code",
      "source": [
        "import pandas as pd\n",
        "from sklearn.model_selection import train_test_split\n",
        "from sklearn.preprocessing import scale\n",
        "from sklearn.neighbors import KNeighborsClassifier\n",
        "from sklearn.svm import SVC\n",
        "from sklearn import metrics"
      ],
      "metadata": {
        "id": "KyvJsSC2bnFS"
      },
      "execution_count": null,
      "outputs": []
    },
    {
      "cell_type": "code",
      "source": [
        "# Load the dataset\n",
        "df = pd.read_csv('emails.csv')"
      ],
      "metadata": {
        "id": "uUjdbqwkbuoW"
      },
      "execution_count": null,
      "outputs": []
    },
    {
      "cell_type": "code",
      "source": [
        "# Drop any rows with missing values\n",
        "df.dropna(inplace=True)"
      ],
      "metadata": {
        "id": "FdOLvL9qbwRq"
      },
      "execution_count": null,
      "outputs": []
    },
    {
      "cell_type": "code",
      "source": [
        "# Drop the 'Email No.' column as it's unnecessary for prediction\n",
        "df.drop(['Email No.'], axis=1, inplace=True)"
      ],
      "metadata": {
        "id": "zf1GrERDb3P-"
      },
      "execution_count": null,
      "outputs": []
    },
    {
      "cell_type": "code",
      "source": [
        "# Separate features and target variable\n",
        "X = df.drop(['Prediction'], axis=1)\n",
        "y = df['Prediction']"
      ],
      "metadata": {
        "id": "1QEp7ry_b7bJ"
      },
      "execution_count": null,
      "outputs": []
    },
    {
      "cell_type": "code",
      "source": [
        "# Scale the feature values\n",
        "X = scale(X)"
      ],
      "metadata": {
        "id": "EgARbKNtb9bc"
      },
      "execution_count": null,
      "outputs": []
    },
    {
      "cell_type": "code",
      "source": [
        "# Split data into training and testing sets\n",
        "X_train, X_test, y_train, y_test = train_test_split(X, y, test_size=0.3, random_state=42)\n"
      ],
      "metadata": {
        "id": "CdKDSOwFcEF-"
      },
      "execution_count": null,
      "outputs": []
    },
    {
      "cell_type": "code",
      "source": [
        "# K-Nearest Neighbors model\n",
        "knn = KNeighborsClassifier(n_neighbors=7)\n",
        "knn.fit(X_train, y_train)\n",
        "y_pred_knn = knn.predict(X_test)"
      ],
      "metadata": {
        "id": "Gzh0QQY5cLaa"
      },
      "execution_count": null,
      "outputs": []
    },
    {
      "cell_type": "code",
      "source": [
        "# KNN results\n",
        "print(\"KNN Predictions:\", y_pred_knn)\n",
        "print(\"KNN Accuracy:\", metrics.accuracy_score(y_test, y_pred_knn))\n",
        "print(\"KNN Confusion Matrix:\\n\", metrics.confusion_matrix(y_test, y_pred_knn))\n"
      ],
      "metadata": {
        "colab": {
          "base_uri": "https://localhost:8080/"
        },
        "id": "wIbUnqO6cQKG",
        "outputId": "7b1ec904-2a10-4fbd-de83-2bbb7bbb4899"
      },
      "execution_count": null,
      "outputs": [
        {
          "output_type": "stream",
          "name": "stdout",
          "text": [
            "KNN Predictions: [0 0 1 ... 1 1 1]\n",
            "KNN Accuracy: 0.8009020618556701\n",
            "KNN Confusion Matrix:\n",
            " [[804 293]\n",
            " [ 16 439]]\n"
          ]
        }
      ]
    },
    {
      "cell_type": "code",
      "source": [
        "# Support Vector Classifier (SVC) model with cost C=1\n",
        "svc_model = SVC(C=1)\n",
        "svc_model.fit(X_train, y_train)\n",
        "y_pred_svc = svc_model.predict(X_test)"
      ],
      "metadata": {
        "id": "we2rUjxncWPd"
      },
      "execution_count": null,
      "outputs": []
    },
    {
      "cell_type": "code",
      "source": [
        "# SVM results\n",
        "print(\"SVM Predictions:\", y_pred_svc)\n",
        "print(\"SVM Accuracy:\", metrics.accuracy_score(y_test, y_pred_svc))\n",
        "print(\"SVM Confusion Matrix:\\n\", metrics.confusion_matrix(y_test, y_pred_svc))"
      ],
      "metadata": {
        "colab": {
          "base_uri": "https://localhost:8080/"
        },
        "id": "rmHmEMcmchSv",
        "outputId": "2197ae0c-4404-4fae-d837-53ce45c60852"
      },
      "execution_count": null,
      "outputs": [
        {
          "output_type": "stream",
          "name": "stdout",
          "text": [
            "SVM Predictions: [0 0 1 ... 0 0 1]\n",
            "SVM Accuracy: 0.9381443298969072\n",
            "SVM Confusion Matrix:\n",
            " [[1091    6]\n",
            " [  90  365]]\n"
          ]
        }
      ]
    }
  ]
}